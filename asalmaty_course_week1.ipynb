{
  "nbformat": 4,
  "nbformat_minor": 0,
  "metadata": {
    "colab": {
      "name": "asalmaty-course-week1.ipynb",
      "provenance": [],
      "collapsed_sections": [],
      "authorship_tag": "ABX9TyP306q5zDENHmTUroMro3wS",
      "include_colab_link": true
    },
    "kernelspec": {
      "name": "python3",
      "display_name": "Python 3"
    }
  },
  "cells": [
    {
      "cell_type": "markdown",
      "metadata": {
        "id": "view-in-github",
        "colab_type": "text"
      },
      "source": [
        "<a href=\"https://colab.research.google.com/github/ra1ski/1001developers-asalmaty/blob/main/asalmaty_course_week1.ipynb\" target=\"_parent\"><img src=\"https://colab.research.google.com/assets/colab-badge.svg\" alt=\"Open In Colab\"/></a>"
      ]
    },
    {
      "cell_type": "code",
      "metadata": {
        "colab": {
          "base_uri": "https://localhost:8080/"
        },
        "id": "PwxjMJiw51pa",
        "outputId": "fd147062-a720-46ad-9652-532f50b7e501"
      },
      "source": [
        "# why do we code?\n",
        "\n",
        "# это переменная\n",
        "name = 'Rawan'\n",
        "print(name)\n",
        "\n",
        "# это тоже переменная, ее тип \"integer\" т.е. число\n",
        "age = 33\n",
        "print(age)\n",
        "\n",
        "# переменная hobbies с типом \"list\", можно перечислять значения\n",
        "hobbies = ['running', 'coding', 'drinking coffe']\n",
        "print(hobbies)\n",
        "\n",
        "print(type(name), type(age), type(hobbies))"
      ],
      "execution_count": null,
      "outputs": [
        {
          "output_type": "stream",
          "text": [
            "Rawan\n",
            "33\n",
            "['running', 'coding', 'drinking coffe']\n",
            "<class 'str'> <class 'int'> <class 'list'>\n"
          ],
          "name": "stdout"
        }
      ]
    },
    {
      "cell_type": "code",
      "metadata": {
        "id": "nplIPkra8rh1",
        "colab": {
          "base_uri": "https://localhost:8080/"
        },
        "outputId": "5a8e6b21-e4ef-44b6-8222-8d9ea65bd909"
      },
      "source": [
        "# дань традиции, hello world\n",
        "print('Hello World')"
      ],
      "execution_count": null,
      "outputs": [
        {
          "output_type": "stream",
          "text": [
            "Hello World\n"
          ],
          "name": "stdout"
        }
      ]
    },
    {
      "cell_type": "code",
      "metadata": {
        "id": "Ebsnx0oA8tai",
        "colab": {
          "base_uri": "https://localhost:8080/"
        },
        "outputId": "d50fea15-3a1b-40f7-c05a-f1a52c041480"
      },
      "source": [
        "# let me introduce myself\n",
        "nickname = 'Rawanski'\n",
        "\n",
        "print(\"Hello World\")\n",
        "print(\"My name is %s\" % nickname) # s - string т.е. строка\n",
        "print(\"I am %d years old\" % age) # d - digit т.е. число\n",
        "print(\"I like \", hobbies)\n",
        "\n",
        "# соеденим лист hobbies через запятую и сделаем из нее строку\n",
        "print(\"I like\", ', '.join(hobbies)) "
      ],
      "execution_count": null,
      "outputs": [
        {
          "output_type": "stream",
          "text": [
            "Hello World\n",
            "My name is Rawanski\n",
            "I am 33 years old\n",
            "I like  ['running', 'coding', 'drinking coffe']\n",
            "I like running, coding, drinking coffe\n"
          ],
          "name": "stdout"
        }
      ]
    },
    {
      "cell_type": "code",
      "metadata": {
        "id": "pT1FrPam8xpF",
        "colab": {
          "base_uri": "https://localhost:8080/"
        },
        "outputId": "714d3804-97aa-43e4-dc08-010690ae8a6f"
      },
      "source": [
        "# if condition. условный оператор, мы делаем это очень часто\n",
        "\n",
        "weather = 'rainy'\n",
        "\n",
        "# если переменная равно rainy\n",
        "if weather == 'rainy':\n",
        "  print('I wear a jacket')\n",
        "else:\n",
        "  print('I wear a t-shirt')"
      ],
      "execution_count": null,
      "outputs": [
        {
          "output_type": "stream",
          "text": [
            "I wear a jacket\n"
          ],
          "name": "stdout"
        }
      ]
    },
    {
      "cell_type": "code",
      "metadata": {
        "id": "KL0A8iFA81s-",
        "colab": {
          "base_uri": "https://localhost:8080/"
        },
        "outputId": "da434c8c-19d5-4644-f469-b334f7b5edde"
      },
      "source": [
        "# Calculator\n",
        "allowed_operations = ['+', '-', '*', '/']\n",
        "\n",
        "input1 =  100#@param{type: \"integer\"}\n",
        "input2 = 10 #@param{type: \"integer\"}\n",
        "operation = \"/\" #@param{type: \"string\"}\n",
        "\n",
        "# простой калькулятор\n",
        "if operation not in allowed_operations:\n",
        "  print('Your operation is not allowed. Sorry')\n",
        "else:\n",
        "  if operation == '+':\n",
        "    result = input1 + input2\n",
        "  if operation == '-':\n",
        "    result = input1 - input2\n",
        "  if operation == '*':\n",
        "    result = input1 * input2\n",
        "  if operation == '/':\n",
        "    result = input1  input2     \n",
        "\n",
        "print('Your result is: ', result)\n"
      ],
      "execution_count": null,
      "outputs": [
        {
          "output_type": "stream",
          "text": [
            "Your result is:  10.0\n"
          ],
          "name": "stdout"
        }
      ]
    },
    {
      "cell_type": "code",
      "metadata": {
        "id": "_I6ZpDCu85En",
        "colab": {
          "base_uri": "https://localhost:8080/"
        },
        "outputId": "def97948-bc47-4e52-acd3-5c8b0b322a8d"
      },
      "source": [
        "import statistics\n",
        "\n",
        "# Продвинутый калькулятор\n",
        "\n",
        "class Calculator:\n",
        "  def __init__(self, input1, input2):\n",
        "    self.input1 = input1\n",
        "    self.input2 = input2\n",
        "\n",
        "  def add(self):\n",
        "    return self.input1 + self.input2\n",
        "\n",
        "  def substract(self):\n",
        "    return self.input1 - self.input2    \n",
        "\n",
        "  def multiply(self):\n",
        "    return self.input1 * self.input2\n",
        "  \n",
        "  def divide(self):\n",
        "    return self.input1 / self.input2\n",
        "\n",
        "  def find_mean(self, digits):\n",
        "    # этот метод находит среднее арифметическое\n",
        "    return statistics.mean(digits)\n",
        "\n",
        "\n",
        "\n",
        "input1 = 10#@param{type: \"integer\"}\n",
        "input2 = 5#@param{type: \"integer\"} \n",
        "operation = \"/\" #@param{type: \"string\"}\n",
        "\n",
        "calculator = Calculator(input1, input2)\n",
        "\n",
        "if operation == '+':\n",
        "  result = calculator.add()\n",
        "elif operation == '-':\n",
        "  result = calculator.substract()\n",
        "elif operation == '*':\n",
        "  result = calculator.multiply() \n",
        "elif operation == '/':\n",
        "  result = calculator.divide() \n",
        "\n",
        "\n",
        "print(result)\n",
        "\n",
        "digits = [1,2,3]\n",
        "mean = calculator.find_mean(digits)\n",
        "print('Среднее арифметическое ', mean)"
      ],
      "execution_count": null,
      "outputs": [
        {
          "output_type": "stream",
          "text": [
            "2.0\n",
            "Среднее арифметическое  2\n"
          ],
          "name": "stdout"
        }
      ]
    },
    {
      "cell_type": "code",
      "metadata": {
        "id": "rsZchoFG876x",
        "colab": {
          "base_uri": "https://localhost:8080/"
        },
        "outputId": "9441eef7-4d4c-4dc8-f5ff-e44058b7b0f3"
      },
      "source": [
        "# for loop\n",
        "foods = ['hotdog', 'burger', 'takos']\n",
        "\n",
        "# перечисляем в цикле знания из листа foods\n",
        "for food in foods:\n",
        "  print('I like ', food)"
      ],
      "execution_count": null,
      "outputs": [
        {
          "output_type": "stream",
          "text": [
            "I like  hotdog\n",
            "I like  burger\n",
            "I like  takos\n"
          ],
          "name": "stdout"
        }
      ]
    },
    {
      "cell_type": "code",
      "metadata": {
        "id": "bTMsvdir-Hjj",
        "colab": {
          "base_uri": "https://localhost:8080/"
        },
        "outputId": "f5efeebd-965d-49eb-95dd-1482dcb262df"
      },
      "source": [
        "digits = [1,2,3]\n",
        "\n",
        "# общее арифметические, делим сумму элементов на количество элементов\n",
        "# (1+2+3) / 3\n",
        "mean = sum(digits) / len(digits)\n",
        "print(mean)\n",
        "\n",
        "\n",
        "# вычисляем общее арифметическое используя готовую библиотеку statstics\n",
        "# https://docs.python.org/3/library/statistics.html\n",
        "import statistics\n",
        "\n",
        "mean = statistics.mean(digits)\n",
        "print(mean)"
      ],
      "execution_count": null,
      "outputs": [
        {
          "output_type": "stream",
          "text": [
            "2.0\n",
            "2\n"
          ],
          "name": "stdout"
        }
      ]
    }
  ]
}